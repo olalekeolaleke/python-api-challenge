{
 "cells": [
  {
   "cell_type": "code",
   "execution_count": 1,
   "id": "9eb7e311",
   "metadata": {},
   "outputs": [],
   "source": [
    "# Dependencies and Setup\n",
    "import matplotlib.pyplot as plt\n",
    "import pandas as pd\n",
    "import numpy as np\n",
    "import requests\n",
    "import gmaps\n",
    "import os\n",
    "\n",
    "# Import API key\n",
    "from config import g_keys\n",
    "\n",
    "#Configure gmaps\n",
    "gmaps.configure(api_key=g_keys)"
   ]
  },
  {
   "cell_type": "code",
   "execution_count": 2,
   "id": "f3cf51ed",
   "metadata": {},
   "outputs": [],
   "source": [
    "vacation_df= pd.read_csv(\"weather_json.csv\")\n",
    "vacation_df.head"
   ]
  },
  {
   "cell_type": "code",
   "execution_count": null,
   "id": "f61c64da",
   "metadata": {},
   "outputs": [],
   "source": []
  },
  {
   "cell_type": "code",
   "execution_count": null,
   "id": "7026c102",
   "metadata": {},
   "outputs": [],
   "source": []
  }
 ],
 "metadata": {
  "kernelspec": {
   "display_name": "Python 3 (ipykernel)",
   "language": "python",
   "name": "python3"
  },
  "language_info": {
   "codemirror_mode": {
    "name": "ipython",
    "version": 3
   },
   "file_extension": ".py",
   "mimetype": "text/x-python",
   "name": "python",
   "nbconvert_exporter": "python",
   "pygments_lexer": "ipython3",
   "version": "3.9.12"
  }
 },
 "nbformat": 4,
 "nbformat_minor": 5
}
