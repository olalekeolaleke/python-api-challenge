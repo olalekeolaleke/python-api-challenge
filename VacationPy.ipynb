{
 "cells": [
  {
   "cell_type": "code",
   "execution_count": 6,
   "id": "9eb7e311",
   "metadata": {
    "collapsed": true
   },
   "outputs": [
    {
     "ename": "ImportError",
     "evalue": "cannot import name 'g_keys' from 'config' (/Users/ola/opt/anaconda3/lib/python3.9/site-packages/config/__init__.py)",
     "output_type": "error",
     "traceback": [
      "\u001b[0;31m---------------------------------------------------------------------------\u001b[0m",
      "\u001b[0;31mImportError\u001b[0m                               Traceback (most recent call last)",
      "Input \u001b[0;32mIn [6]\u001b[0m, in \u001b[0;36m<cell line: 11>\u001b[0;34m()\u001b[0m\n\u001b[1;32m      8\u001b[0m \u001b[38;5;28;01mimport\u001b[39;00m \u001b[38;5;21;01mjson\u001b[39;00m\n\u001b[1;32m     10\u001b[0m \u001b[38;5;66;03m# Import API key\u001b[39;00m\n\u001b[0;32m---> 11\u001b[0m \u001b[38;5;28;01mfrom\u001b[39;00m \u001b[38;5;21;01mconfig\u001b[39;00m \u001b[38;5;28;01mimport\u001b[39;00m g_keys\n\u001b[1;32m     13\u001b[0m \u001b[38;5;66;03m#Configure gmaps\u001b[39;00m\n\u001b[1;32m     14\u001b[0m gmaps\u001b[38;5;241m.\u001b[39mconfigure(api_key\u001b[38;5;241m=\u001b[39mg_keys)\n",
      "\u001b[0;31mImportError\u001b[0m: cannot import name 'g_keys' from 'config' (/Users/ola/opt/anaconda3/lib/python3.9/site-packages/config/__init__.py)"
     ]
    }
   ],
   "source": [
    "# Dependencies and Setup\n",
    "import matplotlib.pyplot as plt\n",
    "import pandas as pd\n",
    "import numpy as np\n",
    "import requests\n",
    "import gmaps\n",
    "import os\n",
    "import json\n",
    "\n",
    "# Import API key\n",
    "from config import g_keys\n",
    "\n",
    "#Configure gmaps\n",
    "gmaps.configure(api_key=g_keys)"
   ]
  },
  {
   "cell_type": "code",
   "execution_count": null,
   "id": "f3cf51ed",
   "metadata": {},
   "outputs": [],
   "source": [
    "vacation_df= pd.read_csv(\"weather_json.csv\", index_col=0)\n",
    "vacation_df.head()"
   ]
  },
  {
   "cell_type": "code",
   "execution_count": null,
   "id": "f61c64da",
   "metadata": {},
   "outputs": [],
   "source": [
    "# Finding the locations by using the coordinates \n",
    "locations = vacation_df[[\"Lat\", \"Lng\"]]\n",
    "\n",
    "humidity = vacation_df[\"Humidity\"]"
   ]
  },
  {
   "cell_type": "code",
   "execution_count": 2,
   "id": "8f9d5066",
   "metadata": {
    "collapsed": true
   },
   "outputs": [
    {
     "ename": "NameError",
     "evalue": "name 'locations' is not defined",
     "output_type": "error",
     "traceback": [
      "\u001b[0;31m---------------------------------------------------------------------------\u001b[0m",
      "\u001b[0;31mNameError\u001b[0m                                 Traceback (most recent call last)",
      "Input \u001b[0;32mIn [2]\u001b[0m, in \u001b[0;36m<cell line: 5>\u001b[0;34m()\u001b[0m\n\u001b[1;32m      2\u001b[0m fig \u001b[38;5;241m=\u001b[39m gmaps\u001b[38;5;241m.\u001b[39mfigure()\n\u001b[1;32m      4\u001b[0m \u001b[38;5;66;03m# Create heat layer\u001b[39;00m\n\u001b[0;32m----> 5\u001b[0m heat_layer \u001b[38;5;241m=\u001b[39m gmaps\u001b[38;5;241m.\u001b[39mheatmap_layer(\u001b[43mlocations\u001b[49m, weights\u001b[38;5;241m=\u001b[39mhumidity, \n\u001b[1;32m      6\u001b[0m                                  dissipating\u001b[38;5;241m=\u001b[39m\u001b[38;5;28;01mFalse\u001b[39;00m, max_intensity\u001b[38;5;241m=\u001b[39m\u001b[38;5;241m100\u001b[39m,\n\u001b[1;32m      7\u001b[0m                                  point_radius\u001b[38;5;241m=\u001b[39m\u001b[38;5;241m2\u001b[39m)\n\u001b[1;32m      9\u001b[0m \u001b[38;5;66;03m# Adding layers\u001b[39;00m\n\u001b[1;32m     10\u001b[0m fig\u001b[38;5;241m.\u001b[39madd_layer(heat_layer)\n",
      "\u001b[0;31mNameError\u001b[0m: name 'locations' is not defined"
     ]
    }
   ],
   "source": [
    "# Plotting Heatmap\n",
    "fig = gmaps.figure()\n",
    "\n",
    "# Create heat layer\n",
    "heat_layer = gmaps.heatmap_layer(locations, weights=humidity, \n",
    "                                 dissipating=False, max_intensity=100,\n",
    "                                 point_radius=2)\n",
    "\n",
    "# Adding layers\n",
    "fig.add_layer(heat_layer)\n",
    "\n",
    "\n",
    "# Displaying and saving map\n",
    "plt.savefig('city_heatmap.png')\n",
    "fig"
   ]
  },
  {
   "cell_type": "code",
   "execution_count": 61,
   "id": "f04022db",
   "metadata": {},
   "outputs": [],
   "source": [
    "# Filtering DataFrame to find ideal weather condition for vacation\n",
    "\n",
    "ideal_weather_df= vacation_df.loc[(vacation_df[\"Max_Temp\"] < 80) & (vacation_df[\"Max_Temp\"] > 70) & (vacation_df[\"WindSpeed\"] < 10) & (vacation_df[\"Cloudness\"] == 0)]"
   ]
  },
  {
   "cell_type": "code",
   "execution_count": 1,
   "id": "62b98489",
   "metadata": {
    "collapsed": true
   },
   "outputs": [
    {
     "ename": "NameError",
     "evalue": "name 'ideal_weather_df' is not defined",
     "output_type": "error",
     "traceback": [
      "\u001b[0;31m---------------------------------------------------------------------------\u001b[0m",
      "\u001b[0;31mNameError\u001b[0m                                 Traceback (most recent call last)",
      "Input \u001b[0;32mIn [1]\u001b[0m, in \u001b[0;36m<cell line: 1>\u001b[0;34m()\u001b[0m\n\u001b[0;32m----> 1\u001b[0m hotel_df \u001b[38;5;241m=\u001b[39m \u001b[43mideal_weather_df\u001b[49m\u001b[38;5;241m.\u001b[39mreset_index(drop\u001b[38;5;241m=\u001b[39m\u001b[38;5;28;01mTrue\u001b[39;00m)\n",
      "\u001b[0;31mNameError\u001b[0m: name 'ideal_weather_df' is not defined"
     ]
    }
   ],
   "source": [
    "hotel_df = ideal_weather_df.reset_index(drop=True)\n"
   ]
  },
  {
   "cell_type": "code",
   "execution_count": 84,
   "id": "23df506f",
   "metadata": {},
   "outputs": [
    {
     "name": "stdout",
     "output_type": "stream",
     "text": [
      "Hotel not found\n"
     ]
    }
   ],
   "source": [
    "# Seting variable\n",
    "hotels = []\n",
    "\n",
    "# Loop through filtered dataframe to get nearby hotel\n",
    "for i, row in hotel_df.iterrows():\n",
    "\n",
    "    lat = row[\"Lat\"]\n",
    "    lng = row[\"Lng\"]\n",
    "\n",
    "    target_coordinates = f\"{lat}, {lng}\"\n",
    "    target_radius = 5000\n",
    "    target_type = \"lodging\"\n",
    "\n",
    "    params = {\n",
    "        \"location\": target_coordinates, \n",
    "        \"radius\": target_radius,\n",
    "        \"types\": target_type,\n",
    "        \"key\": g_keys\n",
    "         }\n",
    "\n",
    "    base_url = \"https://maps.googleapis.com/maps/api/place/nearbysearch/json\"    \n",
    "\n",
    "    response = requests.get(base_url, params=params)  \n",
    "    response = response.json()\n",
    "    try:\n",
    "\n",
    "        hotel_df.loc[i,\"Hotel\"]=response[\"results\"][0][\"name\"]\n",
    "        \n",
    "    except(IndexError):\n",
    "        print(\"Hotel not found\")\n",
    "        \n",
    "        \n",
    "    \n",
    "# Dataframe with nearest hotel\n",
    "#hotel_df[\"Hotel\"] = hotels\n",
    "#hotel_df"
   ]
  },
  {
   "cell_type": "code",
   "execution_count": 87,
   "id": "2278e5c9",
   "metadata": {},
   "outputs": [
    {
     "data": {
      "text/html": [
       "<div>\n",
       "<style scoped>\n",
       "    .dataframe tbody tr th:only-of-type {\n",
       "        vertical-align: middle;\n",
       "    }\n",
       "\n",
       "    .dataframe tbody tr th {\n",
       "        vertical-align: top;\n",
       "    }\n",
       "\n",
       "    .dataframe thead th {\n",
       "        text-align: right;\n",
       "    }\n",
       "</style>\n",
       "<table border=\"1\" class=\"dataframe\">\n",
       "  <thead>\n",
       "    <tr style=\"text-align: right;\">\n",
       "      <th></th>\n",
       "      <th>City</th>\n",
       "      <th>Lat</th>\n",
       "      <th>Lng</th>\n",
       "      <th>Max_Temp</th>\n",
       "      <th>Humidity</th>\n",
       "      <th>Cloudness</th>\n",
       "      <th>WindSpeed</th>\n",
       "      <th>Country</th>\n",
       "      <th>Date</th>\n",
       "      <th>Hotel</th>\n",
       "    </tr>\n",
       "  </thead>\n",
       "  <tbody>\n",
       "    <tr>\n",
       "      <th>0</th>\n",
       "      <td>laguna</td>\n",
       "      <td>38.4210</td>\n",
       "      <td>-121.4238</td>\n",
       "      <td>79.93</td>\n",
       "      <td>48</td>\n",
       "      <td>0</td>\n",
       "      <td>6.91</td>\n",
       "      <td>US</td>\n",
       "      <td>1657950579</td>\n",
       "      <td>Holiday Inn Express &amp; Suites Elk Grove Central...</td>\n",
       "    </tr>\n",
       "    <tr>\n",
       "      <th>1</th>\n",
       "      <td>manaus</td>\n",
       "      <td>-3.1019</td>\n",
       "      <td>-60.0250</td>\n",
       "      <td>79.29</td>\n",
       "      <td>83</td>\n",
       "      <td>0</td>\n",
       "      <td>2.30</td>\n",
       "      <td>BR</td>\n",
       "      <td>1657950647</td>\n",
       "      <td>Manaus Hotéis Millennium</td>\n",
       "    </tr>\n",
       "    <tr>\n",
       "      <th>2</th>\n",
       "      <td>pombia</td>\n",
       "      <td>45.6530</td>\n",
       "      <td>8.6336</td>\n",
       "      <td>78.22</td>\n",
       "      <td>68</td>\n",
       "      <td>0</td>\n",
       "      <td>3.44</td>\n",
       "      <td>IT</td>\n",
       "      <td>1657950648</td>\n",
       "      <td>Albergo Fontana</td>\n",
       "    </tr>\n",
       "    <tr>\n",
       "      <th>3</th>\n",
       "      <td>misratah</td>\n",
       "      <td>32.3754</td>\n",
       "      <td>15.0925</td>\n",
       "      <td>77.63</td>\n",
       "      <td>57</td>\n",
       "      <td>0</td>\n",
       "      <td>1.48</td>\n",
       "      <td>LY</td>\n",
       "      <td>1657950488</td>\n",
       "      <td>Almasa Hotel</td>\n",
       "    </tr>\n",
       "    <tr>\n",
       "      <th>4</th>\n",
       "      <td>drumheller</td>\n",
       "      <td>51.4617</td>\n",
       "      <td>-112.7101</td>\n",
       "      <td>71.44</td>\n",
       "      <td>56</td>\n",
       "      <td>0</td>\n",
       "      <td>3.44</td>\n",
       "      <td>CA</td>\n",
       "      <td>1657950656</td>\n",
       "      <td>Ramada by Wyndham Drumheller Hotel &amp; Suites</td>\n",
       "    </tr>\n",
       "  </tbody>\n",
       "</table>\n",
       "</div>"
      ],
      "text/plain": [
       "         City      Lat       Lng  Max_Temp  Humidity  Cloudness  WindSpeed  \\\n",
       "0      laguna  38.4210 -121.4238     79.93        48          0       6.91   \n",
       "1      manaus  -3.1019  -60.0250     79.29        83          0       2.30   \n",
       "2      pombia  45.6530    8.6336     78.22        68          0       3.44   \n",
       "3    misratah  32.3754   15.0925     77.63        57          0       1.48   \n",
       "4  drumheller  51.4617 -112.7101     71.44        56          0       3.44   \n",
       "\n",
       "  Country        Date                                              Hotel  \n",
       "0      US  1657950579  Holiday Inn Express & Suites Elk Grove Central...  \n",
       "1      BR  1657950647                           Manaus Hotéis Millennium  \n",
       "2      IT  1657950648                                    Albergo Fontana  \n",
       "3      LY  1657950488                                       Almasa Hotel  \n",
       "4      CA  1657950656        Ramada by Wyndham Drumheller Hotel & Suites  "
      ]
     },
     "execution_count": 87,
     "metadata": {},
     "output_type": "execute_result"
    }
   ],
   "source": [
    "hotel_df.head()"
   ]
  },
  {
   "cell_type": "code",
   "execution_count": 76,
   "id": "6d18467d",
   "metadata": {},
   "outputs": [],
   "source": [
    "#for city in range(len(hotel_df[\"City\"])):\n",
    "   # print(city)"
   ]
  },
  {
   "cell_type": "code",
   "execution_count": 77,
   "id": "48871938",
   "metadata": {},
   "outputs": [],
   "source": [
    "#hotel_df.loc[0,'Lat']"
   ]
  },
  {
   "cell_type": "code",
   "execution_count": 91,
   "id": "51b3346d",
   "metadata": {},
   "outputs": [],
   "source": [
    "hotels = hotel_df[\"Hotel\"].tolist()"
   ]
  },
  {
   "cell_type": "code",
   "execution_count": 92,
   "id": "d6e53d78",
   "metadata": {},
   "outputs": [],
   "source": [
    "# Using the template add the hotel marks to the heatmap\n",
    "info_box_template = \"\"\"\n",
    "<dl>\n",
    "<dt>Name</dt><dd>{Hotel}</dd>\n",
    "<dt>City</dt><dd>{City}</dd>\n",
    "<dt>Country</dt><dd>{Country}</dd>\n",
    "</dl>\n",
    "\"\"\"\n",
    "# Store the DataFrame Row\n",
    "hotel_info = [info_box_template.format(**row) for index, row in hotel_df.iterrows()]\n",
    "locations = hotel_df[[\"Lat\", \"Lng\"]]"
   ]
  },
  {
   "cell_type": "code",
   "execution_count": 93,
   "id": "7ae986de",
   "metadata": {},
   "outputs": [
    {
     "data": {
      "application/vnd.jupyter.widget-view+json": {
       "model_id": "95d2422397bc4b5fa5d445f8be26ffec",
       "version_major": 2,
       "version_minor": 0
      },
      "text/plain": [
       "Figure(layout=FigureLayout(height='420px'))"
      ]
     },
     "metadata": {},
     "output_type": "display_data"
    },
    {
     "data": {
      "text/plain": [
       "<Figure size 432x288 with 0 Axes>"
      ]
     },
     "metadata": {},
     "output_type": "display_data"
    }
   ],
   "source": [
    "# Add marker layer ontop of heat map\n",
    "markers = gmaps.marker_layer(locations, info_box_content= [f\"Name: {hotel}\" for hotel in hotels])\n",
    "                            \n",
    "fig.add_layer(markers)\n",
    "\n",
    "# Displaying and saving Map \n",
    "fig"
   ]
  },
  {
   "cell_type": "code",
   "execution_count": null,
   "id": "0539d36d",
   "metadata": {},
   "outputs": [],
   "source": []
  }
 ],
 "metadata": {
  "kernelspec": {
   "display_name": "Python 3 (ipykernel)",
   "language": "python",
   "name": "python3"
  },
  "language_info": {
   "codemirror_mode": {
    "name": "ipython",
    "version": 3
   },
   "file_extension": ".py",
   "mimetype": "text/x-python",
   "name": "python",
   "nbconvert_exporter": "python",
   "pygments_lexer": "ipython3",
   "version": "3.9.12"
  }
 },
 "nbformat": 4,
 "nbformat_minor": 5
}
